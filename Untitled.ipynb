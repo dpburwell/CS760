{
 "cells": [
  {
   "cell_type": "code",
   "execution_count": 1,
   "metadata": {},
   "outputs": [],
   "source": [
    "from sklearn.neighbors import NearestNeighbors\n",
    "import pandas as pd\n",
    "import os\n",
    "import numpy as np\n",
    "import matplotlib.pyplot as plt"
   ]
  },
  {
   "cell_type": "markdown",
   "metadata": {},
   "source": [
    "# Question 1"
   ]
  },
  {
   "cell_type": "code",
   "execution_count": null,
   "metadata": {},
   "outputs": [],
   "source": [
    "def read_file(filename):\n",
    "    return pd.read_csv(os.getcwd()+\"/data/\"+filename, sep=\" \", header=0, names=[\"x0\",\"x1\",\"y\"])"
   ]
  },
  {
   "cell_type": "code",
   "execution_count": null,
   "metadata": {},
   "outputs": [],
   "source": [
    "df = read_file(\"D2z.txt\")"
   ]
  },
  {
   "cell_type": "code",
   "execution_count": null,
   "metadata": {},
   "outputs": [],
   "source": [
    "ax1 = df.plot.scatter(x=\"x0\",y=\"x1\",c=\"y\",colormap=\"plasma\")\n",
    "plt.xticks(np.arange(-2,2, 0.5))\n",
    "plt.yticks(np.arange(-2,2,0.5))\n",
    "plt.show()"
   ]
  },
  {
   "cell_type": "code",
   "execution_count": null,
   "metadata": {},
   "outputs": [],
   "source": [
    "def get_NN(df,v):\n",
    "    df[\"distance_\"] = np.sqrt((df[\"x0\"]-v[0])**2 + (df[\"x1\"]-v[1])**2)\n",
    "    return df.iloc[[df.idxmin()[\"distance_\"]]]"
   ]
  },
  {
   "cell_type": "code",
   "execution_count": null,
   "metadata": {},
   "outputs": [],
   "source": [
    "# pts = []\n",
    "# for x0 in np.arange(-2,2.1,0.1):\n",
    "#     for x1 in np.arange(-2,2.1,0.1):\n",
    "#         pts.append([x0,x1,get_NN(df,[x0,x1]).iloc[0][\"y\"]])\n",
    "\n",
    "# for pt in pts:\n",
    "#     if pt[2]:\n",
    "#         plt.plot(pt[0],pt[1],\"o\",c=\"blue\")\n",
    "#     else:\n",
    "#         plt.plot(pt[0],pt[1],\"o\",c=\"red\")\n",
    "\n",
    "# plt.show()"
   ]
  },
  {
   "cell_type": "code",
   "execution_count": null,
   "metadata": {},
   "outputs": [],
   "source": [
    "pts = []\n",
    "for x0 in np.arange(-2,2.1,0.1):\n",
    "    for x1 in np.arange(-2,2.1,0.1):\n",
    "        pts.append([x0,x1,get_NN(df,[x0,x1]).iloc[0][\"y\"]])\n",
    "        \n",
    "nn_df = pd.DataFrame(pts)\n",
    "nn_df.columns = [\"x0\",\"x1\",\"y\"]\n",
    "\n",
    "fig, ax = plt.subplots()\n",
    "\n",
    "df.plot.scatter(x=\"x0\",y=\"x1\",c=\"y\",colormap=\"plasma\", ax=ax)\n",
    "nn_df.plot.scatter(x=\"x0\",y=\"x1\",c=\"y\",colormap=\"plasma\", alpha=0.2, ax=ax)"
   ]
  },
  {
   "cell_type": "markdown",
   "metadata": {},
   "source": [
    "# Question 2"
   ]
  },
  {
   "cell_type": "code",
   "execution_count": 2,
   "metadata": {},
   "outputs": [],
   "source": [
    "# returns dataframe of data after dropping email No. column\n",
    "def read_file(filename):\n",
    "    df = pd.read_csv(os.getcwd()+\"/data/\"+filename, sep=\",\")\n",
    "    return df.drop(df.columns[0], axis=1)\n",
    "\n",
    "# return data with indexes between a and b as test_df and all other data as data_df\n",
    "# drops the prediction column from both dataframes\n",
    "def split_data(df, a, b):    \n",
    "    train_df = df.drop(df.index[range(a,b)])\n",
    "    train_df = train_df.drop(train_df.columns[-1], axis=1)\n",
    "    \n",
    "    test_df = df.drop(df.index[range(0,a)]).drop(df.index[range(b,len(df.index))])\n",
    "    test_df = test_df.drop(test_df.columns[-1], axis=1)\n",
    "    return train_df, test_df\n",
    "\n",
    "#returns the index of the k nearest neighbors as an array\n",
    "def get_nn(train_df, test_df, k):\n",
    "    nbrs = NearestNeighbors(n_neighbors=k, algorithm='brute').fit(train_df)\n",
    "    distances, nns = nbrs.kneighbors(test_df)\n",
    "    \n",
    "    return nns\n",
    "\n",
    "def get_prediction(df, nns, i):\n",
    "    pos_predictions = 0\n",
    "    for j in range(len(nns[i])):\n",
    "        if df.iloc[nns[i][j]][\"y\"]:\n",
    "            pos_predictions += 1\n",
    "    if pos_predictions/len(nns[i]) >= 0.5:\n",
    "        prediction = 1\n",
    "    else:\n",
    "        prediction = 0\n",
    "        \n",
    "    return prediction\n",
    "\n",
    "# numerator: (TP + TN)\n",
    "# denominator: (all datapoints)\n",
    "def get_accuracy(df, nns, a):\n",
    "\n",
    "    num_correct = 0\n",
    "    for i in range(len(nns)):\n",
    "        real_val = df.iloc[i+a][\"y\"]\n",
    "        prediction = get_prediction(df, nns, i)\n",
    "        \n",
    "        if real_val and prediction:\n",
    "            num_correct += 1\n",
    "        if not real_val and not prediction:\n",
    "            num_correct += 1\n",
    "\n",
    "    return num_correct / 1000\n",
    "\n",
    "# numerator: (TP)\n",
    "# denominator: (TP + FP)\n",
    "def get_precision(df, nns, a):\n",
    "    \n",
    "    tp = 0\n",
    "    fp = 0\n",
    "    for i in range(len(nns)):\n",
    "        real_val = df.iloc[i+a][\"y\"]\n",
    "        prediction = get_prediction(df, nns, i)\n",
    "        \n",
    "        if real_val and prediction:\n",
    "            tp += 1\n",
    "        if not real_val and prediction:\n",
    "            fp += 1\n",
    "    \n",
    "    return tp/(tp+fp)\n",
    "\n",
    "# numerator: (tp)\n",
    "# denominator: (tp + fn)\n",
    "def get_recall(df, nns, a):\n",
    "    \n",
    "    tp = 0\n",
    "    fn = 0\n",
    "    for i in range(len(nns)):\n",
    "        real_val = df.iloc[i+a][\"y\"]\n",
    "        prediction = get_prediction(df, nns, i)\n",
    "        \n",
    "        if real_val and prediction:\n",
    "            tp += 1\n",
    "        if real_val and not prediction:\n",
    "            fn += 1\n",
    "    \n",
    "    return tp/(tp + fn)"
   ]
  },
  {
   "cell_type": "code",
   "execution_count": null,
   "metadata": {},
   "outputs": [],
   "source": [
    "df = read_file(\"emails.csv\")\n",
    "folds = [[0,1000],[1000,2000],[2000,3000],[3000,4000],[4000,5000]]\n",
    "\n",
    "k=1\n",
    "for fold in folds:\n",
    "    train_df, test_df = split_data(df, fold[0], fold[1])\n",
    "    nns = get_nn(train_df, test_df, k)\n",
    "\n",
    "    \n",
    "    accuracy = get_accuracy(df, nns, fold[0])\n",
    "    precision = get_precision(df, nns, fold[0])\n",
    "    recall = get_recall(df, nns, fold[0])\n",
    "    \n",
    "    print(\"accuracy: \" + str(accuracy))\n",
    "    print(\"precision: \" + str(precision))\n",
    "    print(\"recall: \" + str(recall))\n",
    "    print(\"---\")"
   ]
  },
  {
   "cell_type": "markdown",
   "metadata": {},
   "source": [
    "# Question 4"
   ]
  },
  {
   "cell_type": "code",
   "execution_count": null,
   "metadata": {},
   "outputs": [],
   "source": [
    "df = read_file(\"emails.csv\")\n",
    "folds = [[0,1000],[1000,2000],[2000,3000],[3000,4000],[4000,5000]]\n",
    "ks = [1,3,5,7,10]\n",
    "\n",
    "ave_accuracies = []\n",
    "for k in ks:\n",
    "    \n",
    "    accuracies = []\n",
    "    for fold in folds:\n",
    "        train_df, test_df = split_data(df, fold[0], fold[1])\n",
    "        nns = get_nn(train_df, test_df, k)\n",
    "\n",
    "        accuracies.append(get_accuracy(df, nns, fold[0]))\n",
    "    \n",
    "    ave_accuracies.append(np.array(accuracies).mean())"
   ]
  },
  {
   "cell_type": "code",
   "execution_count": null,
   "metadata": {},
   "outputs": [],
   "source": [
    "for accuracy in ave_accuracies:\n",
    "    print(accuracy)"
   ]
  },
  {
   "cell_type": "markdown",
   "metadata": {},
   "source": [
    "# Question 3"
   ]
  },
  {
   "cell_type": "code",
   "execution_count": 19,
   "metadata": {},
   "outputs": [],
   "source": [
    "#ONLY WORKS ON FIRST SPLIT\n",
    "def get_y(df, a):\n",
    "    \n",
    "#     y = (df.loc[np.r_[0:a, a+1000:5000]:, df.columns == 'Prediction']).to_numpy()\n",
    "    y = (df.loc[np.r_[0:a, a+1000:5000], df.columns == 'Prediction']).to_numpy()\n",
    "    \n",
    "    return y\n",
    "    \n",
    "    y = df.loc[1000:, df.columns == 'Prediction']\n",
    "    return y.to_numpy()\n",
    "\n",
    "def sigmoid(theta, x):\n",
    "    return 1/(1+np.exp(-x@theta))\n",
    "\n",
    "def take_step(theta, eta, x, y):\n",
    "    n = train_df.shape[0]\n",
    "    return theta - 1/n * eta*np.matmul(x.T,(sigmoid(theta,x) - y))\n",
    "\n",
    "def train_regression(df, train_df, eta, steps, a):\n",
    "    theta = np.zeros((3001,1))\n",
    "    x = train_df.to_numpy()\n",
    "    y = get_y(df,a)\n",
    "    \n",
    "    for i in range(steps):\n",
    "        theta = take_step(theta, eta, x, y)\n",
    "        \n",
    "    return theta\n",
    "\n",
    "def make_predictions(theta, test_df):\n",
    "    x = test_df.to_numpy()\n",
    "    return (sigmoid(theta, x) > 0.5)*1\n",
    "\n",
    "def get_accuracy(df, predictions, a):\n",
    "    \n",
    "    num_correct = 0\n",
    "    for i in range(len(predictions)):\n",
    "                \n",
    "        real_val = df.iloc[i+a][\"Prediction\"]\n",
    "        prediction = predictions[i][0]\n",
    "    \n",
    "        if real_val and prediction:\n",
    "            num_correct += 1\n",
    "        if not real_val and not prediction:\n",
    "            num_correct += 1\n",
    "\n",
    "    return num_correct / 1000"
   ]
  },
  {
   "cell_type": "code",
   "execution_count": 22,
   "metadata": {},
   "outputs": [],
   "source": [
    "df = read_file(\"emails.csv\")\n",
    "folds = [[0,1000],[1000,2000],[2000,3000],[3000,4000],[4000,5000]]\n",
    "eta = 0.0001\n",
    "steps = 10\n",
    "\n",
    "\n",
    "accuracies = []\n",
    "precisions = []\n",
    "recalls = []\n",
    "for i in range(len(folds)):\n",
    "    a = folds[i][0]\n",
    "    b = folds[i][1]\n",
    "    \n",
    "    train_df, test_df = split_data(df, a, b)\n",
    "    train_df[\"b_\"] = 1\n",
    "    test_df[\"b_\"] = 1\n",
    "    \n",
    "    theta = train_regression(df, train_df, eta, steps, a)\n",
    "    predictions = make_predictions(theta, test_df)\n",
    "    \n",
    "    accuracies.append(get_accuracy(df, predictions, a))\n",
    "    precisions.append(1)\n",
    "    recalls.append(1)\n",
    "    \n",
    "for a in accuracies:\n",
    "    print(a)"
   ]
  },
  {
   "cell_type": "code",
   "execution_count": 23,
   "metadata": {},
   "outputs": [
    {
     "name": "stdout",
     "output_type": "stream",
     "text": [
      "0.72\n",
      "0.741\n",
      "0.824\n",
      "0.713\n",
      "0.7\n"
     ]
    }
   ],
   "source": []
  },
  {
   "cell_type": "code",
   "execution_count": null,
   "metadata": {},
   "outputs": [],
   "source": [
    "theta = train_regression(df, train_df, eta, steps)\n",
    "\n",
    "for i in theta:\n",
    "    print(i)\n",
    "print(theta.shape)"
   ]
  },
  {
   "cell_type": "code",
   "execution_count": 32,
   "metadata": {},
   "outputs": [
    {
     "name": "stdout",
     "output_type": "stream",
     "text": [
      "1000\n",
      "0.707\n"
     ]
    }
   ],
   "source": [
    "predictions = make_predictions(theta, test_df)\n",
    "print(predictions)\n",
    "print(get_accuracy(df, predictions, 0))"
   ]
  },
  {
   "cell_type": "code",
   "execution_count": null,
   "metadata": {},
   "outputs": [],
   "source": []
  },
  {
   "cell_type": "code",
   "execution_count": null,
   "metadata": {},
   "outputs": [],
   "source": []
  },
  {
   "cell_type": "code",
   "execution_count": null,
   "metadata": {},
   "outputs": [],
   "source": []
  },
  {
   "cell_type": "code",
   "execution_count": 26,
   "metadata": {},
   "outputs": [
    {
     "name": "stdout",
     "output_type": "stream",
     "text": [
      "[0 1 2]\n",
      "[4 5]\n"
     ]
    }
   ],
   "source": []
  },
  {
   "cell_type": "code",
   "execution_count": null,
   "metadata": {},
   "outputs": [],
   "source": []
  },
  {
   "cell_type": "code",
   "execution_count": 30,
   "metadata": {},
   "outputs": [
    {
     "name": "stdout",
     "output_type": "stream",
     "text": [
      "(5,)\n"
     ]
    }
   ],
   "source": []
  },
  {
   "cell_type": "code",
   "execution_count": null,
   "metadata": {},
   "outputs": [],
   "source": []
  }
 ],
 "metadata": {
  "kernelspec": {
   "display_name": "Python 3 (ipykernel)",
   "language": "python",
   "name": "python3"
  },
  "language_info": {
   "codemirror_mode": {
    "name": "ipython",
    "version": 3
   },
   "file_extension": ".py",
   "mimetype": "text/x-python",
   "name": "python",
   "nbconvert_exporter": "python",
   "pygments_lexer": "ipython3",
   "version": "3.8.3"
  }
 },
 "nbformat": 4,
 "nbformat_minor": 4
}
