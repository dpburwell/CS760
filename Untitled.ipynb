{
 "cells": [
  {
   "cell_type": "code",
   "execution_count": 22,
   "metadata": {},
   "outputs": [],
   "source": [
    "import os\n",
    "import string\n",
    "import re"
   ]
  },
  {
   "cell_type": "code",
   "execution_count": 55,
   "metadata": {},
   "outputs": [],
   "source": [
    "s = set(string.ascii_lowercase + \" \")\n",
    "langs = [\"e\",\"j\",\"s\"]"
   ]
  },
  {
   "cell_type": "code",
   "execution_count": 33,
   "metadata": {},
   "outputs": [],
   "source": [
    "# returns disctionary of chars and their counts \n",
    "def read_file(file_name):    \n",
    "    data_file = open(os.getcwd()+\"/languageID/\"+file_name, \"r\")\n",
    "    text = data_file.read()\n",
    "    data_file.close()\n",
    "    \n",
    "    counts = {}\n",
    "    for char in s:\n",
    "        counts[char] = text.count(char)\n",
    "    \n",
    "    return sorted(counts.items(), key=lambda x:x[1], reverse=True)\n",
    "    \n",
    "    \n",
    "    \n",
    "    \n",
    "    \n",
    "    \n",
    "    \n",
    "    tot_chars = 0\n",
    "    for key in counts:\n",
    "        tot_chars += counts[key]\n",
    "\n",
    "    probs = {}\n",
    "    for key in counts:\n",
    "        probs[key] = counts[key]/tot_chars\n",
    "    \n",
    "    normalizing_const = max(probs.values())\n",
    "    for key in probs:\n",
    "        probs[key] = probs[key] * (1/normalizing_const)\n",
    "    \n",
    "    return probs"
   ]
  },
  {
   "cell_type": "code",
   "execution_count": 49,
   "metadata": {},
   "outputs": [],
   "source": [
    "# return dictionary of dictionaries\n",
    "# outer key: file_name\n",
    "# inner key: char\n",
    "# value: count\n",
    "def get_training_data():\n",
    "    counts_dict_dict = {}\n",
    "    for file_name in sorted(os.listdir(os.getcwd()+\"/languageID/\")):\n",
    "        if re.search(\"^(e|j|s)[0-9](?!\\d)\", file_name) is not None:\n",
    "            counts_dict_dict[file_name] = read_file(file_name)\n",
    "            \n",
    "    return counts_dict_dict"
   ]
  },
  {
   "cell_type": "code",
   "execution_count": 52,
   "metadata": {},
   "outputs": [],
   "source": [
    "def get_prior_prob(training_data, lang, a=0.5):\n",
    "    count = 0\n",
    "    for file_name in training_data:\n",
    "        if re.search(\"^\"+lang, file_name) is not None:\n",
    "            count += 1\n",
    "            \n",
    "    return (count + a)/(len(training_data) + len(langs)*a)"
   ]
  },
  {
   "cell_type": "markdown",
   "metadata": {},
   "source": [
    "## Question 2.1"
   ]
  },
  {
   "cell_type": "code",
   "execution_count": 58,
   "metadata": {},
   "outputs": [
    {
     "name": "stdout",
     "output_type": "stream",
     "text": [
      "0.3333333333333333\n",
      "0.3333333333333333\n",
      "0.3333333333333333\n"
     ]
    }
   ],
   "source": [
    "training_data = get_training_data()\n",
    "for lang in langs:\n",
    "    print(get_prior_prob(training_data, lang))"
   ]
  },
  {
   "cell_type": "code",
   "execution_count": null,
   "metadata": {},
   "outputs": [],
   "source": []
  },
  {
   "cell_type": "code",
   "execution_count": null,
   "metadata": {},
   "outputs": [],
   "source": []
  }
 ],
 "metadata": {
  "kernelspec": {
   "display_name": "Python 3 (ipykernel)",
   "language": "python",
   "name": "python3"
  },
  "language_info": {
   "codemirror_mode": {
    "name": "ipython",
    "version": 3
   },
   "file_extension": ".py",
   "mimetype": "text/x-python",
   "name": "python",
   "nbconvert_exporter": "python",
   "pygments_lexer": "ipython3",
   "version": "3.8.3"
  }
 },
 "nbformat": 4,
 "nbformat_minor": 4
}
